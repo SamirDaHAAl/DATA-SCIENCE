{
 "cells": [
  {
   "cell_type": "markdown",
   "id": "c37b42ed-3b63-4c74-91ef-bba7202155a2",
   "metadata": {},
   "source": [
    "# BASIC"
   ]
  },
  {
   "cell_type": "code",
   "execution_count": 1,
   "id": "a58975ca-342f-49a9-8839-555344cd887c",
   "metadata": {},
   "outputs": [],
   "source": [
    "import numpy as np #importing numpy as np (np-alias)"
   ]
  },
  {
   "cell_type": "code",
   "execution_count": 2,
   "id": "746034c8-e44c-4df7-ba6f-aaefc3bc310f",
   "metadata": {},
   "outputs": [
    {
     "data": {
      "text/plain": [
       "'1.26.4'"
      ]
     },
     "execution_count": 2,
     "metadata": {},
     "output_type": "execute_result"
    }
   ],
   "source": [
    "np.__version__ #checking version"
   ]
  },
  {
   "cell_type": "code",
   "execution_count": 3,
   "id": "816f3a36-6b41-42d9-8524-6c66dfbeb525",
   "metadata": {},
   "outputs": [],
   "source": [
    "arr = np.array([1,2,3,4]) #creating array by passing list"
   ]
  },
  {
   "cell_type": "code",
   "execution_count": 4,
   "id": "ae8be31d-6639-46de-b637-beabdf6f4a1f",
   "metadata": {},
   "outputs": [
    {
     "name": "stdout",
     "output_type": "stream",
     "text": [
      "[1 2 3 4]\n"
     ]
    }
   ],
   "source": [
    "print(arr) #we can print like this or simply we can write veriable name like(arr)"
   ]
  },
  {
   "cell_type": "code",
   "execution_count": 5,
   "id": "888bd52f-d18e-4c57-9126-eb83b882dc42",
   "metadata": {},
   "outputs": [
    {
     "data": {
      "text/plain": [
       "numpy.ndarray"
      ]
     },
     "execution_count": 5,
     "metadata": {},
     "output_type": "execute_result"
    }
   ],
   "source": [
    "type(arr) #checking type"
   ]
  },
  {
   "cell_type": "code",
   "execution_count": 6,
   "id": "18145a1f-ead9-49c3-b31e-50866a1974f5",
   "metadata": {},
   "outputs": [
    {
     "data": {
      "text/plain": [
       "array([1, 2, 3, 4])"
      ]
     },
     "execution_count": 6,
     "metadata": {},
     "output_type": "execute_result"
    }
   ],
   "source": [
    "arr"
   ]
  },
  {
   "cell_type": "markdown",
   "id": "24017d9f-8923-4ac1-bb94-07117764cbb6",
   "metadata": {},
   "source": [
    "## slicing and indexing"
   ]
  },
  {
   "cell_type": "code",
   "execution_count": 7,
   "id": "8cba53d0-e73f-44a2-944f-8ecd0d869b29",
   "metadata": {},
   "outputs": [
    {
     "data": {
      "text/plain": [
       "1"
      ]
     },
     "execution_count": 7,
     "metadata": {},
     "output_type": "execute_result"
    }
   ],
   "source": [
    "arr[0]"
   ]
  },
  {
   "cell_type": "code",
   "execution_count": 8,
   "id": "2d737873-39c8-4d9e-9ba9-d6515d3ba0c7",
   "metadata": {},
   "outputs": [
    {
     "data": {
      "text/plain": [
       "4"
      ]
     },
     "execution_count": 8,
     "metadata": {},
     "output_type": "execute_result"
    }
   ],
   "source": [
    "arr[-1] # gives last element"
   ]
  },
  {
   "cell_type": "code",
   "execution_count": 9,
   "id": "86d6d09d-79db-4240-8d1f-b721a1d3105b",
   "metadata": {},
   "outputs": [
    {
     "data": {
      "text/plain": [
       "array([1, 2])"
      ]
     },
     "execution_count": 9,
     "metadata": {},
     "output_type": "execute_result"
    }
   ],
   "source": [
    "arr[0:2] # 0-1 index elements are printed "
   ]
  },
  {
   "cell_type": "markdown",
   "id": "00db2f73-75ec-4e71-b812-295a1598df18",
   "metadata": {},
   "source": [
    "## Basic Attributes"
   ]
  },
  {
   "cell_type": "code",
   "execution_count": 10,
   "id": "c3ace9c7-25fd-4fc2-bed4-61450c9c246e",
   "metadata": {},
   "outputs": [
    {
     "data": {
      "text/plain": [
       "1"
      ]
     },
     "execution_count": 10,
     "metadata": {},
     "output_type": "execute_result"
    }
   ],
   "source": [
    "arr.ndim #check diemntion"
   ]
  },
  {
   "cell_type": "code",
   "execution_count": 11,
   "id": "fd64a6f1-b63e-482e-b932-7741d36ac30e",
   "metadata": {},
   "outputs": [
    {
     "data": {
      "text/plain": [
       "4"
      ]
     },
     "execution_count": 11,
     "metadata": {},
     "output_type": "execute_result"
    }
   ],
   "source": [
    "arr.size #checks size"
   ]
  },
  {
   "cell_type": "code",
   "execution_count": 12,
   "id": "108d4525-1f3d-4a1e-ab40-0840f03bfceb",
   "metadata": {},
   "outputs": [
    {
     "data": {
      "text/plain": [
       "(4,)"
      ]
     },
     "execution_count": 12,
     "metadata": {},
     "output_type": "execute_result"
    }
   ],
   "source": [
    "arr.shape #checking shape"
   ]
  },
  {
   "cell_type": "code",
   "execution_count": 13,
   "id": "52d67b42-9c9e-440e-84b8-f8e9b7aee21d",
   "metadata": {},
   "outputs": [
    {
     "data": {
      "text/plain": [
       "dtype('int32')"
      ]
     },
     "execution_count": 13,
     "metadata": {},
     "output_type": "execute_result"
    }
   ],
   "source": [
    "arr.dtype # checking data type"
   ]
  },
  {
   "cell_type": "markdown",
   "id": "203126e8-0993-49e9-a8c4-79b837b71e6f",
   "metadata": {},
   "source": [
    "## Dimension of arrays"
   ]
  },
  {
   "cell_type": "code",
   "execution_count": null,
   "id": "6f0db659-f456-4673-9fbe-87e0c2af97dc",
   "metadata": {},
   "outputs": [],
   "source": [
    "# 1D\n",
    "# 2D\n",
    "# 3D\n",
    "# ND"
   ]
  },
  {
   "cell_type": "markdown",
   "id": "0364dac4-583c-41e4-8459-6b7afcaaee8f",
   "metadata": {},
   "source": [
    "### 1d array"
   ]
  },
  {
   "cell_type": "code",
   "execution_count": 14,
   "id": "7fac9bc1-3fa8-4a7b-a249-19ca6ea68374",
   "metadata": {},
   "outputs": [],
   "source": [
    "#1d array\n",
    "# 1-D array or 1-Dimensional array is  like a simple list of items .\n",
    "# It requires only one index to access the individual element\n"
   ]
  },
  {
   "cell_type": "code",
   "execution_count": 15,
   "id": "c79ad926-ad2d-46bd-892c-2dda25edd35a",
   "metadata": {},
   "outputs": [],
   "source": [
    "one_d = np.array([1,2,3,4,5])"
   ]
  },
  {
   "cell_type": "code",
   "execution_count": 16,
   "id": "8f380b9c-1e7f-4e72-90b5-25fad33bfa3d",
   "metadata": {},
   "outputs": [
    {
     "data": {
      "text/plain": [
       "1"
      ]
     },
     "execution_count": 16,
     "metadata": {},
     "output_type": "execute_result"
    }
   ],
   "source": [
    "one_d.ndim"
   ]
  },
  {
   "cell_type": "code",
   "execution_count": 17,
   "id": "12411fba-36d5-4195-9369-0e204c9ee2a6",
   "metadata": {},
   "outputs": [
    {
     "data": {
      "text/plain": [
       "5"
      ]
     },
     "execution_count": 17,
     "metadata": {},
     "output_type": "execute_result"
    }
   ],
   "source": [
    "one_d[4] ##one index are required to access an individual element"
   ]
  },
  {
   "cell_type": "code",
   "execution_count": 18,
   "id": "c6446ecf-48e2-4842-98ed-6c3f5c1b1633",
   "metadata": {},
   "outputs": [
    {
     "data": {
      "text/plain": [
       "(5,)"
      ]
     },
     "execution_count": 18,
     "metadata": {},
     "output_type": "execute_result"
    }
   ],
   "source": [
    "one_d.shape"
   ]
  },
  {
   "cell_type": "markdown",
   "id": "acb49cdf-3162-49f3-95ed-3187a0d532ed",
   "metadata": {},
   "source": [
    "### 2d array"
   ]
  },
  {
   "cell_type": "code",
   "execution_count": 19,
   "id": "0594fb22-1637-49ed-a2f6-8124adfb3f4e",
   "metadata": {},
   "outputs": [],
   "source": [
    "#2d array\n",
    "# 2D array is like a list of lists. \n",
    "# It requires two index to access the individual element "
   ]
  },
  {
   "cell_type": "code",
   "execution_count": 20,
   "id": "f391636c-f9ee-486f-b51b-8d7423d0bab6",
   "metadata": {},
   "outputs": [],
   "source": [
    "two_d = np.array([[1,2,3],[3,4,5]])"
   ]
  },
  {
   "cell_type": "code",
   "execution_count": 21,
   "id": "426f0ff9-e42a-44ce-8490-880521237afc",
   "metadata": {},
   "outputs": [
    {
     "data": {
      "text/plain": [
       "2"
      ]
     },
     "execution_count": 21,
     "metadata": {},
     "output_type": "execute_result"
    }
   ],
   "source": [
    "two_d.ndim"
   ]
  },
  {
   "cell_type": "code",
   "execution_count": 22,
   "id": "024ff5d9-899a-4e72-a058-f2028ee078da",
   "metadata": {},
   "outputs": [
    {
     "data": {
      "text/plain": [
       "array([[1, 2, 3],\n",
       "       [3, 4, 5]])"
      ]
     },
     "execution_count": 22,
     "metadata": {},
     "output_type": "execute_result"
    }
   ],
   "source": [
    "two_d"
   ]
  },
  {
   "cell_type": "code",
   "execution_count": 23,
   "id": "0096c85a-625c-47e3-b19d-73451a1054fa",
   "metadata": {},
   "outputs": [
    {
     "data": {
      "text/plain": [
       "4"
      ]
     },
     "execution_count": 23,
     "metadata": {},
     "output_type": "execute_result"
    }
   ],
   "source": [
    "two_d[1][1] ##two index are required to access an individual element"
   ]
  },
  {
   "cell_type": "code",
   "execution_count": 24,
   "id": "9e0992c1-513b-4110-91f4-c374abe4e95b",
   "metadata": {},
   "outputs": [
    {
     "data": {
      "text/plain": [
       "(2, 3)"
      ]
     },
     "execution_count": 24,
     "metadata": {},
     "output_type": "execute_result"
    }
   ],
   "source": [
    "two_d.shape"
   ]
  },
  {
   "cell_type": "markdown",
   "id": "1478c6ed-09ff-4e31-9160-07f7223dad23",
   "metadata": {},
   "source": [
    "### 3d array"
   ]
  },
  {
   "cell_type": "code",
   "execution_count": 25,
   "id": "f4ee76ec-a782-4976-9447-159dd8d34e47",
   "metadata": {},
   "outputs": [],
   "source": [
    "#3d array\n",
    "# 3D array is like a list of lists of lists . \n",
    "# It requires three index to access the individual element "
   ]
  },
  {
   "cell_type": "code",
   "execution_count": 26,
   "id": "4241c5e8-b3d0-463d-9ee9-9bcc27fa7b0c",
   "metadata": {},
   "outputs": [],
   "source": [
    "three_d = np.array([[[1,2],[2,3]],[[4,5],[6,7]]])"
   ]
  },
  {
   "cell_type": "code",
   "execution_count": 27,
   "id": "53d8bad8-92f0-4853-998a-a10518307923",
   "metadata": {},
   "outputs": [
    {
     "data": {
      "text/plain": [
       "array([[[1, 2],\n",
       "        [2, 3]],\n",
       "\n",
       "       [[4, 5],\n",
       "        [6, 7]]])"
      ]
     },
     "execution_count": 27,
     "metadata": {},
     "output_type": "execute_result"
    }
   ],
   "source": [
    "three_d"
   ]
  },
  {
   "cell_type": "code",
   "execution_count": 28,
   "id": "c081c540-a959-4752-8b4f-e229d0a94cc1",
   "metadata": {},
   "outputs": [
    {
     "data": {
      "text/plain": [
       "3"
      ]
     },
     "execution_count": 28,
     "metadata": {},
     "output_type": "execute_result"
    }
   ],
   "source": [
    "three_d.ndim"
   ]
  },
  {
   "cell_type": "code",
   "execution_count": 29,
   "id": "eb88cfb2-641e-4c27-a125-7d3884fa3909",
   "metadata": {},
   "outputs": [
    {
     "data": {
      "text/plain": [
       "6"
      ]
     },
     "execution_count": 29,
     "metadata": {},
     "output_type": "execute_result"
    }
   ],
   "source": [
    "three_d[1][1][0] #three index are required to access an individual element"
   ]
  },
  {
   "cell_type": "code",
   "execution_count": 30,
   "id": "ff68b2df-0102-4bbc-84e8-c2bbaadc660f",
   "metadata": {},
   "outputs": [
    {
     "data": {
      "text/plain": [
       "(2, 2, 2)"
      ]
     },
     "execution_count": 30,
     "metadata": {},
     "output_type": "execute_result"
    }
   ],
   "source": [
    "three_d.shape"
   ]
  },
  {
   "cell_type": "markdown",
   "id": "0c329696-85f5-4530-aab6-bf7a58a7c5aa",
   "metadata": {},
   "source": [
    "# Data Types"
   ]
  },
  {
   "cell_type": "code",
   "execution_count": 31,
   "id": "d1baa2e7-9994-42db-a9e2-9db3847c5bc2",
   "metadata": {},
   "outputs": [],
   "source": [
    "arr = np.array([1,2,3,4])"
   ]
  },
  {
   "cell_type": "code",
   "execution_count": 32,
   "id": "0eddeddd-2b29-4bec-a16c-e33024dd9700",
   "metadata": {},
   "outputs": [
    {
     "data": {
      "text/plain": [
       "array([1, 2, 3, 4])"
      ]
     },
     "execution_count": 32,
     "metadata": {},
     "output_type": "execute_result"
    }
   ],
   "source": [
    "arr"
   ]
  },
  {
   "cell_type": "code",
   "execution_count": 33,
   "id": "c0b1962c-6dfc-4b39-80fa-17f89653d1c7",
   "metadata": {},
   "outputs": [
    {
     "data": {
      "text/plain": [
       "dtype('int32')"
      ]
     },
     "execution_count": 33,
     "metadata": {},
     "output_type": "execute_result"
    }
   ],
   "source": [
    "arr.dtype"
   ]
  },
  {
   "cell_type": "code",
   "execution_count": 34,
   "id": "09a52233-0e42-4880-a365-91ac4f702ddf",
   "metadata": {},
   "outputs": [],
   "source": [
    "arr = np.array([1,2,3,4])"
   ]
  },
  {
   "cell_type": "code",
   "execution_count": 35,
   "id": "1356e928-796f-4a14-af8d-a59ba0b31127",
   "metadata": {},
   "outputs": [
    {
     "data": {
      "text/plain": [
       "dtype('int32')"
      ]
     },
     "execution_count": 35,
     "metadata": {},
     "output_type": "execute_result"
    }
   ],
   "source": [
    "arr.dtype"
   ]
  },
  {
   "cell_type": "code",
   "execution_count": 36,
   "id": "dc322b7a-4681-4f72-992d-8f3f9e7499bd",
   "metadata": {},
   "outputs": [
    {
     "data": {
      "text/plain": [
       "4"
      ]
     },
     "execution_count": 36,
     "metadata": {},
     "output_type": "execute_result"
    }
   ],
   "source": [
    "arr.itemsize # how many bytes of memory is used by per elemnt (in this case 4 byte of memory per element)"
   ]
  },
  {
   "cell_type": "code",
   "execution_count": 37,
   "id": "e380f98b-ddb3-44af-ad34-f482ef150dcf",
   "metadata": {},
   "outputs": [],
   "source": [
    "arr1 = np.array([1,2,3,4],dtype = 'int8') #changing datatype to int8"
   ]
  },
  {
   "cell_type": "code",
   "execution_count": 38,
   "id": "60a87b62-a80d-4062-b43b-41493b21de86",
   "metadata": {},
   "outputs": [
    {
     "data": {
      "text/plain": [
       "dtype('int8')"
      ]
     },
     "execution_count": 38,
     "metadata": {},
     "output_type": "execute_result"
    }
   ],
   "source": [
    "arr1.dtype"
   ]
  },
  {
   "cell_type": "code",
   "execution_count": 39,
   "id": "0caf0cfb-73a9-4671-89f1-85e2fd8a55f4",
   "metadata": {},
   "outputs": [
    {
     "data": {
      "text/plain": [
       "1"
      ]
     },
     "execution_count": 39,
     "metadata": {},
     "output_type": "execute_result"
    }
   ],
   "source": [
    "arr1.itemsize "
   ]
  },
  {
   "cell_type": "code",
   "execution_count": 131,
   "id": "eb03d1f5-f495-4094-b914-45e718c5f553",
   "metadata": {},
   "outputs": [],
   "source": [
    "# arr2 = np.array([1,2,3,128],dtype = 'int8') #error "
   ]
  },
  {
   "cell_type": "code",
   "execution_count": null,
   "id": "e95c68e0-2a69-4207-bc89-20329e387f4c",
   "metadata": {},
   "outputs": [],
   "source": []
  },
  {
   "cell_type": "markdown",
   "id": "d0ee2a0a-85e6-4bfd-aece-8615a0bb51ad",
   "metadata": {},
   "source": [
    "# Array creation\n"
   ]
  },
  {
   "cell_type": "markdown",
   "id": "c971db99-948b-440a-9169-7120425d55b4",
   "metadata": {},
   "source": [
    "#### 1. Conversion from other Python structures (i.e. lists and tuples)"
   ]
  },
  {
   "cell_type": "code",
   "execution_count": 43,
   "id": "e0a40967-f7c6-4331-a881-9c57a3118ec8",
   "metadata": {},
   "outputs": [],
   "source": [
    "l1 = [1,2,3,4] # simple list\n",
    "arr = np.array(l1) #making array from l1 list"
   ]
  },
  {
   "cell_type": "code",
   "execution_count": 44,
   "id": "5cd86ec0-2b7e-479e-8485-e41a200febdd",
   "metadata": {},
   "outputs": [
    {
     "data": {
      "text/plain": [
       "array([1, 2, 3, 4])"
      ]
     },
     "execution_count": 44,
     "metadata": {},
     "output_type": "execute_result"
    }
   ],
   "source": [
    "arr"
   ]
  },
  {
   "cell_type": "code",
   "execution_count": 45,
   "id": "ea08d90e-5cb0-45fb-8c3a-b4230797c04a",
   "metadata": {},
   "outputs": [
    {
     "data": {
      "text/plain": [
       "numpy.ndarray"
      ]
     },
     "execution_count": 45,
     "metadata": {},
     "output_type": "execute_result"
    }
   ],
   "source": [
    "type(arr)"
   ]
  },
  {
   "cell_type": "code",
   "execution_count": 46,
   "id": "ef9e6a51-75fc-4343-9f0b-369dc4e2512f",
   "metadata": {},
   "outputs": [],
   "source": [
    "t1 = (1,2,3,4) #simple tuple\n",
    "arr1 = np.array(t1) #making array from t1 tuple"
   ]
  },
  {
   "cell_type": "code",
   "execution_count": 47,
   "id": "5f078f2b-5a1f-4eed-b4b3-6bfcf62dd96e",
   "metadata": {},
   "outputs": [
    {
     "data": {
      "text/plain": [
       "array([1, 2, 3, 4])"
      ]
     },
     "execution_count": 47,
     "metadata": {},
     "output_type": "execute_result"
    }
   ],
   "source": [
    "arr1"
   ]
  },
  {
   "cell_type": "code",
   "execution_count": 48,
   "id": "cddb91a2-b27c-4551-b89c-66f5126cb281",
   "metadata": {},
   "outputs": [
    {
     "data": {
      "text/plain": [
       "numpy.ndarray"
      ]
     },
     "execution_count": 48,
     "metadata": {},
     "output_type": "execute_result"
    }
   ],
   "source": [
    "type(arr1)"
   ]
  },
  {
   "cell_type": "markdown",
   "id": "10040256-8585-4424-bb3f-f8979c0b85d9",
   "metadata": {},
   "source": [
    "#### 2.Intrinsic NumPy array creation functions (e.g. arange, ones, zeros, etc.)"
   ]
  },
  {
   "cell_type": "markdown",
   "id": "16a54471-7eb6-4d9b-9575-b2d3bcc550a7",
   "metadata": {},
   "source": [
    "#### arange"
   ]
  },
  {
   "cell_type": "code",
   "execution_count": 51,
   "id": "efcd340a-e892-4aab-8d76-bc30e45cde0f",
   "metadata": {},
   "outputs": [],
   "source": [
    "arr2 = np.arange(10) #gives array in range of 0-9"
   ]
  },
  {
   "cell_type": "code",
   "execution_count": 52,
   "id": "04f55356-0b61-4db9-afab-bc1859dda664",
   "metadata": {},
   "outputs": [
    {
     "data": {
      "text/plain": [
       "array([0, 1, 2, 3, 4, 5, 6, 7, 8, 9])"
      ]
     },
     "execution_count": 52,
     "metadata": {},
     "output_type": "execute_result"
    }
   ],
   "source": [
    "arr2"
   ]
  },
  {
   "cell_type": "markdown",
   "id": "561dc2ee-2971-4ef5-af02-c0135e7ac092",
   "metadata": {},
   "source": [
    "#### ones"
   ]
  },
  {
   "cell_type": "code",
   "execution_count": 54,
   "id": "9bffe6c1-01c7-4c87-9ffb-1c8641020933",
   "metadata": {},
   "outputs": [],
   "source": [
    "arr3 = np.ones((3,2)) #passing shape (gives array with all one )"
   ]
  },
  {
   "cell_type": "code",
   "execution_count": 55,
   "id": "371edb9e-1f8a-4f8b-a616-3ad43feb547d",
   "metadata": {},
   "outputs": [
    {
     "data": {
      "text/plain": [
       "array([[1., 1.],\n",
       "       [1., 1.],\n",
       "       [1., 1.]])"
      ]
     },
     "execution_count": 55,
     "metadata": {},
     "output_type": "execute_result"
    }
   ],
   "source": [
    "arr3"
   ]
  },
  {
   "cell_type": "code",
   "execution_count": 56,
   "id": "d28bf132-e850-48ab-866d-e1b442a8701a",
   "metadata": {},
   "outputs": [],
   "source": [
    "# zeros"
   ]
  },
  {
   "cell_type": "code",
   "execution_count": 57,
   "id": "de7dbc34-33f3-402b-ba7c-cca6b2f5ecd2",
   "metadata": {},
   "outputs": [],
   "source": [
    "arr4 = np.zeros((4,2)) #passing shape(4,2)  (gives array with all zeros )"
   ]
  },
  {
   "cell_type": "code",
   "execution_count": 58,
   "id": "3fb04c7e-feb9-438c-8899-76bc8915b3b4",
   "metadata": {},
   "outputs": [
    {
     "data": {
      "text/plain": [
       "array([[0., 0.],\n",
       "       [0., 0.],\n",
       "       [0., 0.],\n",
       "       [0., 0.]])"
      ]
     },
     "execution_count": 58,
     "metadata": {},
     "output_type": "execute_result"
    }
   ],
   "source": [
    "arr4"
   ]
  },
  {
   "cell_type": "markdown",
   "id": "84b698fb-fd18-419e-a9e9-5cc45a6c7afb",
   "metadata": {},
   "source": [
    "#### 3. Replicating, joining, or mutating existing arrays"
   ]
  },
  {
   "cell_type": "markdown",
   "id": "eb1a861d-d04e-44c4-a6d8-03e62ab9d80e",
   "metadata": {},
   "source": [
    "#### Replicating (duplicating)"
   ]
  },
  {
   "cell_type": "code",
   "execution_count": 61,
   "id": "14cfbff3-4568-494b-a8e8-3e57993069fd",
   "metadata": {},
   "outputs": [],
   "source": [
    "arr = np.array([1,2,3,4])"
   ]
  },
  {
   "cell_type": "code",
   "execution_count": 62,
   "id": "79fdc1fd-79fc-4347-8c75-24de27034e25",
   "metadata": {},
   "outputs": [],
   "source": [
    "replicate_array = np.tile(arr,5) #tile function is used to replicate"
   ]
  },
  {
   "cell_type": "code",
   "execution_count": 63,
   "id": "f7081710-21d0-408b-8fc7-99bda2924719",
   "metadata": {},
   "outputs": [
    {
     "data": {
      "text/plain": [
       "array([1, 2, 3, 4, 1, 2, 3, 4, 1, 2, 3, 4, 1, 2, 3, 4, 1, 2, 3, 4])"
      ]
     },
     "execution_count": 63,
     "metadata": {},
     "output_type": "execute_result"
    }
   ],
   "source": [
    "replicate_array"
   ]
  },
  {
   "cell_type": "markdown",
   "id": "fce35d62-5602-4583-8650-75d178f53e48",
   "metadata": {},
   "source": [
    "#### joining"
   ]
  },
  {
   "cell_type": "code",
   "execution_count": 65,
   "id": "bb771add-7d6e-4237-8d87-43458f3682aa",
   "metadata": {},
   "outputs": [],
   "source": [
    "arr1 =  np.array([1,2,3,4])\n",
    "arr2 = np.array([5,6,7,8])\n"
   ]
  },
  {
   "cell_type": "code",
   "execution_count": 66,
   "id": "764a70da-38ce-47b1-8fd7-a5c315235db6",
   "metadata": {},
   "outputs": [],
   "source": [
    "join_array = np.concatenate((arr1,arr2)) #joining two arrays using concatination"
   ]
  },
  {
   "cell_type": "code",
   "execution_count": 67,
   "id": "628f793c-3833-42f6-bfd0-e0809f7edbc8",
   "metadata": {},
   "outputs": [
    {
     "data": {
      "text/plain": [
       "array([1, 2, 3, 4, 5, 6, 7, 8])"
      ]
     },
     "execution_count": 67,
     "metadata": {},
     "output_type": "execute_result"
    }
   ],
   "source": [
    "join_array"
   ]
  },
  {
   "cell_type": "markdown",
   "id": "f569956c-7235-4b89-9abe-353052ddcd54",
   "metadata": {},
   "source": [
    "#### mutating (reshaping)"
   ]
  },
  {
   "cell_type": "code",
   "execution_count": 69,
   "id": "de83e0dc-ac84-4b46-93e1-cf5ff9c6b453",
   "metadata": {},
   "outputs": [],
   "source": [
    "arr1 =  np.array([1,2,3,4])"
   ]
  },
  {
   "cell_type": "code",
   "execution_count": 70,
   "id": "6c776ebf-3cb0-4a2b-8f5a-f3720f26b4df",
   "metadata": {},
   "outputs": [],
   "source": [
    "arr = np.reshape(arr1,(4,1)) #reshaping arry to shape(4,1)"
   ]
  },
  {
   "cell_type": "code",
   "execution_count": 71,
   "id": "198492c7-bd39-4340-8d6f-fdcd921998a4",
   "metadata": {},
   "outputs": [
    {
     "data": {
      "text/plain": [
       "array([[1],\n",
       "       [2],\n",
       "       [3],\n",
       "       [4]])"
      ]
     },
     "execution_count": 71,
     "metadata": {},
     "output_type": "execute_result"
    }
   ],
   "source": [
    "arr"
   ]
  },
  {
   "cell_type": "markdown",
   "id": "7b3b2da8-6ef1-430f-bfbf-b98062d5c8a4",
   "metadata": {},
   "source": [
    "#### Use of special library functions (e.g., random)"
   ]
  },
  {
   "cell_type": "code",
   "execution_count": 73,
   "id": "78242220-4e98-4071-80b9-0f97d4c86ed6",
   "metadata": {},
   "outputs": [],
   "source": [
    "rand_arr = np.random.rand(5,2) # generates random numbers in a given shape over a range of (0-1)"
   ]
  },
  {
   "cell_type": "code",
   "execution_count": 74,
   "id": "6872506a-9114-4f1b-82c4-c476961f998c",
   "metadata": {},
   "outputs": [
    {
     "data": {
      "text/plain": [
       "array([[0.80300017, 0.8260954 ],\n",
       "       [0.01787403, 0.07245705],\n",
       "       [0.35593035, 0.05000173],\n",
       "       [0.13325254, 0.61350966],\n",
       "       [0.38845336, 0.06497704]])"
      ]
     },
     "execution_count": 74,
     "metadata": {},
     "output_type": "execute_result"
    }
   ],
   "source": [
    "rand_arr"
   ]
  },
  {
   "cell_type": "code",
   "execution_count": 75,
   "id": "9e0f699d-9cbb-4c2f-af6a-62369751dd71",
   "metadata": {},
   "outputs": [],
   "source": [
    "rand_int = np.random.randint(10,20,size=(2,3)) # generates random integer within a specified range (10-20 with size (2,3))"
   ]
  },
  {
   "cell_type": "code",
   "execution_count": 76,
   "id": "6f6ad163-eb3b-4021-88c7-b33aa0ad7472",
   "metadata": {},
   "outputs": [
    {
     "data": {
      "text/plain": [
       "array([[18, 13, 11],\n",
       "       [19, 13, 15]])"
      ]
     },
     "execution_count": 76,
     "metadata": {},
     "output_type": "execute_result"
    }
   ],
   "source": [
    "rand_int"
   ]
  },
  {
   "cell_type": "markdown",
   "id": "f7c3d233-8c6a-42d8-900c-7235fc45da36",
   "metadata": {},
   "source": [
    "# Functions and Operations"
   ]
  },
  {
   "cell_type": "markdown",
   "id": "eb1a36c5-03b8-4a2a-97ed-c366969c82fc",
   "metadata": {},
   "source": [
    "#### Functions"
   ]
  },
  {
   "cell_type": "code",
   "execution_count": 79,
   "id": "d0ed86f5-5f4e-483c-8a6c-a38fd31f842c",
   "metadata": {},
   "outputs": [],
   "source": [
    "arr = np.arange(10).reshape(5,2)"
   ]
  },
  {
   "cell_type": "code",
   "execution_count": 80,
   "id": "6b2ca649-4a80-43e6-b8ff-0d8b93b2ea2b",
   "metadata": {},
   "outputs": [
    {
     "data": {
      "text/plain": [
       "array([[0, 1],\n",
       "       [2, 3],\n",
       "       [4, 5],\n",
       "       [6, 7],\n",
       "       [8, 9]])"
      ]
     },
     "execution_count": 80,
     "metadata": {},
     "output_type": "execute_result"
    }
   ],
   "source": [
    "arr"
   ]
  },
  {
   "cell_type": "code",
   "execution_count": 81,
   "id": "f0e0998b-19a7-49b4-bd2d-354270b73ad3",
   "metadata": {},
   "outputs": [
    {
     "data": {
      "text/plain": [
       "0"
      ]
     },
     "execution_count": 81,
     "metadata": {},
     "output_type": "execute_result"
    }
   ],
   "source": [
    "arr.min() # finds minimum element"
   ]
  },
  {
   "cell_type": "code",
   "execution_count": 82,
   "id": "28727576-039c-45f2-b718-7ed478b948a2",
   "metadata": {},
   "outputs": [
    {
     "data": {
      "text/plain": [
       "9"
      ]
     },
     "execution_count": 82,
     "metadata": {},
     "output_type": "execute_result"
    }
   ],
   "source": [
    "arr.max() # finds maximum element"
   ]
  },
  {
   "cell_type": "code",
   "execution_count": 83,
   "id": "f7a5dcd4-29ea-41e4-96cc-7779073b7b44",
   "metadata": {},
   "outputs": [
    {
     "data": {
      "text/plain": [
       "45"
      ]
     },
     "execution_count": 83,
     "metadata": {},
     "output_type": "execute_result"
    }
   ],
   "source": [
    "arr.sum() # sum all the elements"
   ]
  },
  {
   "cell_type": "code",
   "execution_count": 84,
   "id": "ec994615-6484-4df9-8154-751f9f803785",
   "metadata": {},
   "outputs": [
    {
     "data": {
      "text/plain": [
       "array([[0.        , 1.        ],\n",
       "       [1.41421356, 1.73205081],\n",
       "       [2.        , 2.23606798],\n",
       "       [2.44948974, 2.64575131],\n",
       "       [2.82842712, 3.        ]])"
      ]
     },
     "execution_count": 84,
     "metadata": {},
     "output_type": "execute_result"
    }
   ],
   "source": [
    "np.sqrt(arr) # finds sqrt of given array"
   ]
  },
  {
   "cell_type": "markdown",
   "id": "617aafc3-90ba-4991-8fa4-4bf4510a6253",
   "metadata": {},
   "source": [
    "#### Operation"
   ]
  },
  {
   "cell_type": "code",
   "execution_count": 85,
   "id": "ea5fada0-d4cb-490f-97ae-63921ac05ad9",
   "metadata": {},
   "outputs": [
    {
     "data": {
      "text/plain": [
       "array([[0, 1],\n",
       "       [2, 3],\n",
       "       [4, 5],\n",
       "       [6, 7],\n",
       "       [8, 9]])"
      ]
     },
     "execution_count": 85,
     "metadata": {},
     "output_type": "execute_result"
    }
   ],
   "source": [
    "arr"
   ]
  },
  {
   "cell_type": "code",
   "execution_count": 86,
   "id": "d712ff86-d1b0-4969-b142-e90f2dff06c6",
   "metadata": {},
   "outputs": [],
   "source": [
    "arr1 = np.arange(10,20).reshape(5,2)"
   ]
  },
  {
   "cell_type": "code",
   "execution_count": 87,
   "id": "59f7b94e-a4fc-462c-a51c-193d3ad6bc10",
   "metadata": {},
   "outputs": [
    {
     "data": {
      "text/plain": [
       "array([[10, 11],\n",
       "       [12, 13],\n",
       "       [14, 15],\n",
       "       [16, 17],\n",
       "       [18, 19]])"
      ]
     },
     "execution_count": 87,
     "metadata": {},
     "output_type": "execute_result"
    }
   ],
   "source": [
    "arr1"
   ]
  },
  {
   "cell_type": "code",
   "execution_count": 88,
   "id": "8b3bec10-b5e6-4dd1-bb98-c2257820741f",
   "metadata": {},
   "outputs": [
    {
     "data": {
      "text/plain": [
       "array([[10, 12],\n",
       "       [14, 16],\n",
       "       [18, 20],\n",
       "       [22, 24],\n",
       "       [26, 28]])"
      ]
     },
     "execution_count": 88,
     "metadata": {},
     "output_type": "execute_result"
    }
   ],
   "source": [
    "arr+arr1 # adding two arrays"
   ]
  },
  {
   "cell_type": "code",
   "execution_count": 89,
   "id": "103f8694-25ff-4edb-abd0-8669cb0013c1",
   "metadata": {},
   "outputs": [
    {
     "data": {
      "text/plain": [
       "array([[  0,  11],\n",
       "       [ 24,  39],\n",
       "       [ 56,  75],\n",
       "       [ 96, 119],\n",
       "       [144, 171]])"
      ]
     },
     "execution_count": 89,
     "metadata": {},
     "output_type": "execute_result"
    }
   ],
   "source": [
    "arr*arr1 # mult two arrays"
   ]
  },
  {
   "cell_type": "code",
   "execution_count": 90,
   "id": "b3da1169-a823-4167-8fd1-e23385b8e98f",
   "metadata": {},
   "outputs": [
    {
     "data": {
      "text/plain": [
       "array([[0.        , 0.09090909],\n",
       "       [0.16666667, 0.23076923],\n",
       "       [0.28571429, 0.33333333],\n",
       "       [0.375     , 0.41176471],\n",
       "       [0.44444444, 0.47368421]])"
      ]
     },
     "execution_count": 90,
     "metadata": {},
     "output_type": "execute_result"
    }
   ],
   "source": [
    "arr/arr1 # div two arrays"
   ]
  },
  {
   "cell_type": "code",
   "execution_count": 91,
   "id": "d18e03f4-744c-470f-aaee-af0ed4ad227e",
   "metadata": {},
   "outputs": [],
   "source": [
    "# l1 = [1,2,3]\n",
    "# l2=[4,5,6]"
   ]
  },
  {
   "cell_type": "code",
   "execution_count": 92,
   "id": "62a19cb6-71b4-4a78-9717-ce36257fa17f",
   "metadata": {},
   "outputs": [],
   "source": [
    "# l1*l2  # error"
   ]
  },
  {
   "cell_type": "markdown",
   "id": "fada78cb-231f-47dc-8a61-8e872b026aaa",
   "metadata": {},
   "source": [
    "# Axis"
   ]
  },
  {
   "cell_type": "code",
   "execution_count": 93,
   "id": "7e6d9ba8-56bb-43ce-a7a4-3a56b47afde6",
   "metadata": {},
   "outputs": [],
   "source": [
    "# axis 0 - column\n",
    "# axis 1 - row"
   ]
  },
  {
   "cell_type": "code",
   "execution_count": 94,
   "id": "36650f25-5eb1-4c6a-ba6d-8368ae899d22",
   "metadata": {},
   "outputs": [],
   "source": [
    "auta_array = np.arange(12).reshape(4,3)"
   ]
  },
  {
   "cell_type": "code",
   "execution_count": 95,
   "id": "b5eff218-882b-4cea-a975-ae5071e612f4",
   "metadata": {},
   "outputs": [
    {
     "data": {
      "text/plain": [
       "array([[ 0,  1,  2],\n",
       "       [ 3,  4,  5],\n",
       "       [ 6,  7,  8],\n",
       "       [ 9, 10, 11]])"
      ]
     },
     "execution_count": 95,
     "metadata": {},
     "output_type": "execute_result"
    }
   ],
   "source": [
    "auta_array"
   ]
  },
  {
   "cell_type": "code",
   "execution_count": 96,
   "id": "92973bea-7570-4a3b-a5ca-9613a8f689f1",
   "metadata": {},
   "outputs": [
    {
     "data": {
      "text/plain": [
       "66"
      ]
     },
     "execution_count": 96,
     "metadata": {},
     "output_type": "execute_result"
    }
   ],
   "source": [
    "auta_array.sum()"
   ]
  },
  {
   "cell_type": "code",
   "execution_count": 97,
   "id": "47dddf0e-766e-4e70-80b9-5c67b1314a00",
   "metadata": {},
   "outputs": [
    {
     "data": {
      "text/plain": [
       "array([18, 22, 26])"
      ]
     },
     "execution_count": 97,
     "metadata": {},
     "output_type": "execute_result"
    }
   ],
   "source": [
    "auta_array.sum(axis = 0)"
   ]
  },
  {
   "cell_type": "code",
   "execution_count": 98,
   "id": "a3c9060d-3364-41e0-aeff-c0dd17f0361d",
   "metadata": {},
   "outputs": [
    {
     "data": {
      "text/plain": [
       "array([ 3, 12, 21, 30])"
      ]
     },
     "execution_count": 98,
     "metadata": {},
     "output_type": "execute_result"
    }
   ],
   "source": [
    "auta_array.sum(axis = 1)"
   ]
  },
  {
   "cell_type": "code",
   "execution_count": null,
   "id": "e527d547-d2d5-4468-8362-e909ce264023",
   "metadata": {},
   "outputs": [],
   "source": []
  },
  {
   "cell_type": "markdown",
   "id": "f611b8ff-c355-4193-8ebe-92ff5e269977",
   "metadata": {},
   "source": [
    "# Iteration"
   ]
  },
  {
   "cell_type": "code",
   "execution_count": 99,
   "id": "75def543-73fc-4051-93f2-574a9bdd6dd0",
   "metadata": {},
   "outputs": [],
   "source": [
    "# Repetitive execution"
   ]
  },
  {
   "cell_type": "code",
   "execution_count": 100,
   "id": "91b90e2f-d7e2-47e0-a785-36e86a605a79",
   "metadata": {},
   "outputs": [],
   "source": [
    "arr = np.arange(12).reshape(3,4)"
   ]
  },
  {
   "cell_type": "code",
   "execution_count": 101,
   "id": "5377832c-1e51-4b8c-8005-ab1ea7dfb338",
   "metadata": {},
   "outputs": [
    {
     "data": {
      "text/plain": [
       "array([[ 0,  1,  2,  3],\n",
       "       [ 4,  5,  6,  7],\n",
       "       [ 8,  9, 10, 11]])"
      ]
     },
     "execution_count": 101,
     "metadata": {},
     "output_type": "execute_result"
    }
   ],
   "source": [
    "arr"
   ]
  },
  {
   "cell_type": "code",
   "execution_count": 102,
   "id": "6391e257-6a4c-479e-ac04-ac2f7c538389",
   "metadata": {},
   "outputs": [
    {
     "name": "stdout",
     "output_type": "stream",
     "text": [
      "0\n",
      "1\n",
      "2\n",
      "3\n",
      "4\n",
      "5\n",
      "6\n",
      "7\n",
      "8\n",
      "9\n",
      "10\n",
      "11\n"
     ]
    }
   ],
   "source": [
    "for row in arr:\n",
    "    for cell in row:\n",
    "        print(cell)\n",
    "  \n",
    "    "
   ]
  },
  {
   "cell_type": "code",
   "execution_count": 132,
   "id": "b3094754-0ca6-4fc1-9caa-13c96883cb53",
   "metadata": {},
   "outputs": [
    {
     "name": "stdout",
     "output_type": "stream",
     "text": [
      "0\n",
      "1\n",
      "2\n",
      "3\n",
      "4\n",
      "5\n",
      "6\n",
      "7\n",
      "8\n",
      "9\n",
      "10\n",
      "11\n"
     ]
    }
   ],
   "source": [
    "for cell in arr.flatten():\n",
    "    print(cell)"
   ]
  },
  {
   "cell_type": "markdown",
   "id": "e7c100ec-06e5-4550-a575-706b472a0584",
   "metadata": {},
   "source": [
    " #### nditer"
   ]
  },
  {
   "cell_type": "code",
   "execution_count": 105,
   "id": "7dd1072b-b074-4dab-a415-b7a10408c0da",
   "metadata": {},
   "outputs": [
    {
     "name": "stdout",
     "output_type": "stream",
     "text": [
      "0\n",
      "4\n",
      "8\n",
      "1\n",
      "5\n",
      "9\n",
      "2\n",
      "6\n",
      "10\n",
      "3\n",
      "7\n",
      "11\n"
     ]
    }
   ],
   "source": [
    "for x in np.nditer(arr,order = 'f'):\n",
    "    print(x)\n"
   ]
  },
  {
   "cell_type": "code",
   "execution_count": 106,
   "id": "a712853c-bb50-4f2d-9ae9-c1f96aced600",
   "metadata": {},
   "outputs": [
    {
     "data": {
      "text/plain": [
       "array([[ 0,  1,  2,  3],\n",
       "       [ 4,  5,  6,  7],\n",
       "       [ 8,  9, 10, 11]])"
      ]
     },
     "execution_count": 106,
     "metadata": {},
     "output_type": "execute_result"
    }
   ],
   "source": [
    "arr"
   ]
  },
  {
   "cell_type": "code",
   "execution_count": 107,
   "id": "f4644fe3-88f3-421a-81ac-5e631af33958",
   "metadata": {},
   "outputs": [],
   "source": [
    "arr1 = np.arange(1,9,3).reshape(3,1)"
   ]
  },
  {
   "cell_type": "code",
   "execution_count": 108,
   "id": "008443ea-9f8d-4533-aff2-fae076b4bf8f",
   "metadata": {},
   "outputs": [
    {
     "data": {
      "text/plain": [
       "array([[1],\n",
       "       [4],\n",
       "       [7]])"
      ]
     },
     "execution_count": 108,
     "metadata": {},
     "output_type": "execute_result"
    }
   ],
   "source": [
    "arr1"
   ]
  },
  {
   "cell_type": "code",
   "execution_count": 109,
   "id": "2aaf18d7-6f24-4c6f-bdec-36107fa7e576",
   "metadata": {},
   "outputs": [
    {
     "name": "stdout",
     "output_type": "stream",
     "text": [
      "0 1\n",
      "1 1\n",
      "2 1\n",
      "3 1\n",
      "4 4\n",
      "5 4\n",
      "6 4\n",
      "7 4\n",
      "8 7\n",
      "9 7\n",
      "10 7\n",
      "11 7\n"
     ]
    }
   ],
   "source": [
    "for x,y in np.nditer((arr,arr1)):\n",
    "    print(x,y)\n",
    "    \n"
   ]
  },
  {
   "cell_type": "markdown",
   "id": "8fc0e0f8-bbc1-41e6-bbeb-e060df80e068",
   "metadata": {},
   "source": [
    "# Read and write files"
   ]
  },
  {
   "cell_type": "code",
   "execution_count": 111,
   "id": "ea4361a3-42fd-4ac4-8901-29bf83667c4f",
   "metadata": {},
   "outputs": [],
   "source": [
    "arr = np.arange(12).reshape(3,4)"
   ]
  },
  {
   "cell_type": "code",
   "execution_count": 112,
   "id": "ab13d52a-438f-439c-8cdc-a1fb024b73cd",
   "metadata": {},
   "outputs": [
    {
     "data": {
      "text/plain": [
       "array([[ 0,  1,  2,  3],\n",
       "       [ 4,  5,  6,  7],\n",
       "       [ 8,  9, 10, 11]])"
      ]
     },
     "execution_count": 112,
     "metadata": {},
     "output_type": "execute_result"
    }
   ],
   "source": [
    "arr"
   ]
  },
  {
   "cell_type": "markdown",
   "id": "41880f58-0634-431e-9be8-d6d3cdf383d0",
   "metadata": {},
   "source": [
    "### Text (reading and writing text file)"
   ]
  },
  {
   "cell_type": "code",
   "execution_count": 114,
   "id": "4075059f-604e-4aee-9be5-3f937ad47a06",
   "metadata": {},
   "outputs": [],
   "source": [
    "np.savetxt('test1.txt',arr)"
   ]
  },
  {
   "cell_type": "code",
   "execution_count": 115,
   "id": "476237f7-6898-4456-9723-9ab5857c5589",
   "metadata": {},
   "outputs": [],
   "source": [
    "a = np.loadtxt('test1.txt')"
   ]
  },
  {
   "cell_type": "code",
   "execution_count": 116,
   "id": "851833b7-d1e6-4349-8a62-473d6ca6333b",
   "metadata": {},
   "outputs": [
    {
     "data": {
      "text/plain": [
       "array([[ 0.,  1.,  2.,  3.],\n",
       "       [ 4.,  5.,  6.,  7.],\n",
       "       [ 8.,  9., 10., 11.]])"
      ]
     },
     "execution_count": 116,
     "metadata": {},
     "output_type": "execute_result"
    }
   ],
   "source": [
    "a"
   ]
  },
  {
   "cell_type": "markdown",
   "id": "e94c6928-2362-4160-9a5a-0d5e062bcaec",
   "metadata": {},
   "source": [
    "### Binay file (reading and writing binary file)"
   ]
  },
  {
   "cell_type": "code",
   "execution_count": 118,
   "id": "3fc42aa9-e507-43c4-95da-5b73f27f9103",
   "metadata": {},
   "outputs": [],
   "source": [
    "np.save('test2.npy',arr)"
   ]
  },
  {
   "cell_type": "code",
   "execution_count": 119,
   "id": "22199281-4f90-4fd5-aa7e-36f2a82379a1",
   "metadata": {},
   "outputs": [],
   "source": [
    "b = np.load('test2.npy')"
   ]
  },
  {
   "cell_type": "code",
   "execution_count": 120,
   "id": "6bc1976f-5a0f-4321-baa1-179ebed1e4a7",
   "metadata": {},
   "outputs": [
    {
     "data": {
      "text/plain": [
       "array([[ 0,  1,  2,  3],\n",
       "       [ 4,  5,  6,  7],\n",
       "       [ 8,  9, 10, 11]])"
      ]
     },
     "execution_count": 120,
     "metadata": {},
     "output_type": "execute_result"
    }
   ],
   "source": [
    "b"
   ]
  },
  {
   "cell_type": "markdown",
   "id": "2ad08a1f-bb85-4eb3-8d5b-67229694fc9f",
   "metadata": {},
   "source": [
    "### Zip file (reading and writing Zip file)"
   ]
  },
  {
   "cell_type": "code",
   "execution_count": 122,
   "id": "5080ae4a-307f-4f06-b49f-66a6b2393ca9",
   "metadata": {},
   "outputs": [],
   "source": [
    "a = np.arange(12).reshape(3,4)"
   ]
  },
  {
   "cell_type": "code",
   "execution_count": 123,
   "id": "b3fa6e10-63a3-4436-a73f-4207daabbc38",
   "metadata": {},
   "outputs": [
    {
     "data": {
      "text/plain": [
       "array([[ 0,  1,  2,  3],\n",
       "       [ 4,  5,  6,  7],\n",
       "       [ 8,  9, 10, 11]])"
      ]
     },
     "execution_count": 123,
     "metadata": {},
     "output_type": "execute_result"
    }
   ],
   "source": [
    "a"
   ]
  },
  {
   "cell_type": "code",
   "execution_count": 124,
   "id": "af340f4b-a990-4b12-a40b-389777cb9a2a",
   "metadata": {},
   "outputs": [],
   "source": [
    "b = np.arange(10).reshape(5,2)"
   ]
  },
  {
   "cell_type": "code",
   "execution_count": 125,
   "id": "5867c825-8ddb-4164-a01f-e51b56f6c9d5",
   "metadata": {
    "scrolled": true
   },
   "outputs": [
    {
     "data": {
      "text/plain": [
       "array([[0, 1],\n",
       "       [2, 3],\n",
       "       [4, 5],\n",
       "       [6, 7],\n",
       "       [8, 9]])"
      ]
     },
     "execution_count": 125,
     "metadata": {},
     "output_type": "execute_result"
    }
   ],
   "source": [
    "b"
   ]
  },
  {
   "cell_type": "code",
   "execution_count": 126,
   "id": "3cb60541-523a-4355-accf-2d93e8e64e5f",
   "metadata": {},
   "outputs": [],
   "source": [
    "np.savez('test3.npz',x = a,y = b)"
   ]
  },
  {
   "cell_type": "code",
   "execution_count": 127,
   "id": "7cac923f-df5a-4fd3-b26d-c36dabe846ec",
   "metadata": {},
   "outputs": [],
   "source": [
    "data = np.load('test3.npz')"
   ]
  },
  {
   "cell_type": "code",
   "execution_count": 128,
   "id": "ce5c5ce2-5257-495e-918f-557591cbcd11",
   "metadata": {},
   "outputs": [
    {
     "data": {
      "text/plain": [
       "array([[ 0,  1,  2,  3],\n",
       "       [ 4,  5,  6,  7],\n",
       "       [ 8,  9, 10, 11]])"
      ]
     },
     "execution_count": 128,
     "metadata": {},
     "output_type": "execute_result"
    }
   ],
   "source": [
    "data['x']"
   ]
  },
  {
   "cell_type": "code",
   "execution_count": 129,
   "id": "118f0671-e3d4-4bc9-b14d-8890d902f3ac",
   "metadata": {},
   "outputs": [
    {
     "data": {
      "text/plain": [
       "array([[0, 1],\n",
       "       [2, 3],\n",
       "       [4, 5],\n",
       "       [6, 7],\n",
       "       [8, 9]])"
      ]
     },
     "execution_count": 129,
     "metadata": {},
     "output_type": "execute_result"
    }
   ],
   "source": [
    "data['y']"
   ]
  },
  {
   "cell_type": "code",
   "execution_count": null,
   "id": "cb301739-b209-45a9-92c2-f6408b88b558",
   "metadata": {},
   "outputs": [],
   "source": []
  },
  {
   "cell_type": "code",
   "execution_count": null,
   "id": "401c5921-57ba-4197-805d-5cff14a75121",
   "metadata": {},
   "outputs": [],
   "source": []
  }
 ],
 "metadata": {
  "kernelspec": {
   "display_name": "Python 3 (ipykernel)",
   "language": "python",
   "name": "python3"
  },
  "language_info": {
   "codemirror_mode": {
    "name": "ipython",
    "version": 3
   },
   "file_extension": ".py",
   "mimetype": "text/x-python",
   "name": "python",
   "nbconvert_exporter": "python",
   "pygments_lexer": "ipython3",
   "version": "3.12.4"
  }
 },
 "nbformat": 4,
 "nbformat_minor": 5
}
